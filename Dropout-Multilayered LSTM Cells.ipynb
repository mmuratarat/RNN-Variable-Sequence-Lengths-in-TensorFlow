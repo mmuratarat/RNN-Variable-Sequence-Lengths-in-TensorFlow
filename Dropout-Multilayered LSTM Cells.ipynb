{
 "cells": [
  {
   "cell_type": "code",
   "execution_count": 1,
   "metadata": {},
   "outputs": [
    {
     "name": "stderr",
     "output_type": "stream",
     "text": [
      "/Users/mustafamuratarat/anaconda3/lib/python3.6/site-packages/h5py/__init__.py:34: FutureWarning: Conversion of the second argument of issubdtype from `float` to `np.floating` is deprecated. In future, it will be treated as `np.float64 == np.dtype(float).type`.\n",
      "  from ._conv import register_converters as _register_converters\n"
     ]
    }
   ],
   "source": [
    "import tensorflow as tf\n",
    "import numpy as np\n",
    "import pandas as pd\n",
    "\n",
    "import matplotlib\n",
    "import matplotlib.pyplot as plt\n",
    "import time\n",
    "import math"
   ]
  },
  {
   "cell_type": "code",
   "execution_count": 2,
   "metadata": {
    "collapsed": true
   },
   "outputs": [],
   "source": [
    "X_train=pd.read_csv('X_train.txt', header=None).as_matrix()\n",
    "y_train = pd.read_csv('y_train.txt', header=None).as_matrix().ravel()\n",
    "X_test = pd.read_csv('X_test.txt', header=None).as_matrix()\n",
    "y_test = pd.read_csv('y_test.txt', header=None).as_matrix().ravel()"
   ]
  },
  {
   "cell_type": "code",
   "execution_count": 3,
   "metadata": {
    "collapsed": true
   },
   "outputs": [],
   "source": [
    "def convertDummy(y, labelNum):\n",
    "    labelNum = tf.constant(labelNum)\n",
    "    dummy = tf.one_hot(y, labelNum, axis=1)\n",
    "    sess = tf.Session()\n",
    "    dummy = sess.run(dummy)\n",
    "    sess.close()\n",
    "    return dummy"
   ]
  },
  {
   "cell_type": "code",
   "execution_count": 4,
   "metadata": {
    "collapsed": true
   },
   "outputs": [],
   "source": [
    "def length(sequence):\n",
    "  used = tf.sign(tf.reduce_max(tf.abs(sequence), 2))\n",
    "  length = tf.reduce_sum(used, 1)\n",
    "  length = tf.cast(length, tf.int32)\n",
    "  sess = tf.Session()\n",
    "  length = sess.run(length)\n",
    "  sess.close()\n",
    "  return length"
   ]
  },
  {
   "cell_type": "code",
   "execution_count": 5,
   "metadata": {
    "collapsed": true
   },
   "outputs": [],
   "source": [
    "max_timestep = 60\n",
    "num_classes = 6\n",
    "split_size = max_timestep"
   ]
  },
  {
   "cell_type": "code",
   "execution_count": 6,
   "metadata": {
    "collapsed": true
   },
   "outputs": [],
   "source": [
    " def split_time(m, split_size):\n",
    "        r = m.shape[0]\n",
    "        extend_row_size = np.math.ceil(r / split_size) * split_size - r\n",
    "        m_p = np.expand_dims(np.pad(m, [(0, extend_row_size), (0, 0)], mode='constant'), axis=0)\n",
    "        result = m_p.reshape((np.math.ceil(r / split_size), split_size, m.shape[1]))\n",
    "        return result"
   ]
  },
  {
   "cell_type": "code",
   "execution_count": 7,
   "metadata": {
    "collapsed": true
   },
   "outputs": [],
   "source": [
    "Xtrain = split_time(X_train, split_size)\n",
    "ytrain = split_time(convertDummy(y_train-1, num_classes), split_size)\n",
    "Xtest = split_time(X_test, split_size)\n",
    "ytest = split_time(convertDummy(y_test-1, num_classes), split_size)"
   ]
  },
  {
   "cell_type": "code",
   "execution_count": 8,
   "metadata": {},
   "outputs": [
    {
     "name": "stdout",
     "output_type": "stream",
     "text": [
      "(123, 60, 561)\n",
      "(123, 60, 6)\n",
      "(50, 60, 561)\n",
      "(50, 60, 6)\n"
     ]
    }
   ],
   "source": [
    "print(Xtrain.shape)\n",
    "print(ytrain.shape)\n",
    "print(Xtest.shape)\n",
    "print(ytest.shape)"
   ]
  },
  {
   "cell_type": "code",
   "execution_count": 9,
   "metadata": {},
   "outputs": [
    {
     "data": {
      "text/plain": [
       "array([60, 60, 60, 60, 60, 60, 60, 60, 60, 60, 60, 60, 60, 60, 60, 60, 60,\n",
       "       60, 60, 60, 60, 60, 60, 60, 60, 60, 60, 60, 60, 60, 60, 60, 60, 60,\n",
       "       60, 60, 60, 60, 60, 60, 60, 60, 60, 60, 60, 60, 60, 60, 60, 60, 60,\n",
       "       60, 60, 60, 60, 60, 60, 60, 60, 60, 60, 60, 60, 60, 60, 60, 60, 60,\n",
       "       60, 60, 60, 60, 60, 60, 60, 60, 60, 60, 60, 60, 60, 60, 60, 60, 60,\n",
       "       60, 60, 60, 60, 60, 60, 60, 60, 60, 60, 60, 60, 60, 60, 60, 60, 60,\n",
       "       60, 60, 60, 60, 60, 60, 60, 60, 60, 60, 60, 60, 60, 60, 60, 60, 60,\n",
       "       60, 60, 60, 32], dtype=int32)"
      ]
     },
     "execution_count": 9,
     "metadata": {},
     "output_type": "execute_result"
    }
   ],
   "source": [
    "length(Xtrain) #the last instance has only 32 time steps. We left-pad them with zeroes."
   ]
  },
  {
   "cell_type": "raw",
   "metadata": {},
   "source": [
    "If you build a very deep LSTM, it may end up overfitting the training set. In order to prevent that, a common technique is to apply dropout. You can simply add a dropout layer before or after the LSTM as usual but if you also want to apply dropout between LSTM layers, you need to use a DropoutWrapper."
   ]
  },
  {
   "cell_type": "code",
   "execution_count": 10,
   "metadata": {},
   "outputs": [],
   "source": [
    "learning_rate = 0.01\n",
    "num_neurons = 128\n",
    "num_inputs = 561\n",
    "num_classes = 6\n",
    "num_steps=60\n",
    "num_iterations = 100\n",
    "num_layers=3\n",
    "\n",
    "#During training, you can feed any value you want to the keep_prob placeholder (typically 0.5)\n",
    "train_keep_prob =0.5\n",
    "\n",
    "seq_length_batch = length(Xtrain)\n",
    "\n",
    "X = tf.placeholder(tf.float32, [None, num_steps, num_inputs])\n",
    "y = tf.placeholder(tf.int64, [None, None, num_classes])\n",
    "seq_length = tf.placeholder(tf.int32, [None])\n",
    "\n",
    "keep_prob = tf.placeholder_with_default(1.0, shape=())\n",
    "\n",
    "initializer = tf.random_uniform_initializer(-1, 1)\n",
    "lstm_cells = [tf.contrib.rnn.LSTMCell(num_units=num_neurons, state_is_tuple=True, forget_bias=1.0, initializer=initializer) for layer in range(num_layers)]\n",
    "lstm_cells_drop = [tf.contrib.rnn.DropoutWrapper(cell, input_keep_prob=keep_prob) for cell in lstm_cells]\n",
    "multi_layer_cell = tf.contrib.rnn.MultiRNNCell(lstm_cells_drop)\n",
    "outputs, states = tf.nn.dynamic_rnn(multi_layer_cell, X, sequence_length= seq_length, dtype=tf.float32)\n",
    "\n",
    "with tf.Session() as sess:\n",
    "    tf.global_variables_initializer().run()\n",
    "    outputs_val, states_val = sess.run([outputs, states], feed_dict={X: Xtrain, seq_length: seq_length_batch, keep_prob: train_keep_prob})\n",
    "\n",
    "#The outputs holds the outputs of all cells for all sequences in a batch. So if a particular sequence is shorter and\n",
    "#padded with zeros, the outputs for the last cells will be zero.\n",
    "\n",
    "#The states holds the last cell state, or equivalently the last non-zero output per sequence\n",
    "\n",
    "#states variable is a tuple containing one tensor per layer, each representing the final state of that layer's cell\n",
    "#with shape [batch_size X num_neurons]\n",
    "\n",
    "#states_val[2] is the tuple for the last layer. It has two arrays in it , one for hidden state h_state, \n",
    "#the other for memory state c_state.\n",
    "\n",
    "#states_val[2][1].shape hidden state has the shape (123, 128), which is [batch_size X num_neurons] \n",
    "#that we mentioned above.\n",
    "\n",
    "#the hidden state of the last layer in states tuple will be the same with the last time-step of outputs \n",
    "#for one particular observation.\n"
   ]
  },
  {
   "cell_type": "code",
   "execution_count": 11,
   "metadata": {},
   "outputs": [
    {
     "data": {
      "text/plain": [
       "LSTMStateTuple(c=array([[ 1.7748687e-01, -7.3981029e-01,  6.5627635e-01, ...,\n",
       "         3.4709066e-02, -7.2951591e-01, -1.1264236e+00],\n",
       "       [-9.9907249e-01, -6.0380000e-01, -4.0375732e-02, ...,\n",
       "        -8.5740954e-01, -1.1775501e+00,  6.5739131e-01],\n",
       "       [-8.7011558e-01, -4.8667067e-01, -1.6235726e-04, ...,\n",
       "        -2.8230852e-01,  1.9982469e-01,  7.4888453e-02],\n",
       "       ...,\n",
       "       [ 4.2244363e-01, -4.4949746e-01, -1.6434340e+00, ...,\n",
       "         1.4370871e+00, -2.4305090e-01, -1.2360177e+00],\n",
       "       [ 6.5276861e-01,  1.7359817e-01,  3.5736096e-01, ...,\n",
       "        -1.2055391e+00, -1.0554307e+00,  4.0401384e-01],\n",
       "       [-9.6683675e-01, -7.7438557e-01, -4.2099595e-01, ...,\n",
       "        -4.4919476e-01,  1.3397702e-02, -6.0400122e-01]], dtype=float32), h=array([[ 1.12709112e-03, -6.26621783e-01,  6.11348404e-03, ...,\n",
       "         1.48764858e-02, -6.14504516e-01, -5.19650638e-01],\n",
       "       [-5.54635073e-04, -1.01621663e-04, -1.49023812e-03, ...,\n",
       "        -3.48323882e-01, -3.46437931e-01,  3.23214442e-01],\n",
       "       [-3.26022971e-03, -3.09711392e-03, -5.40580695e-05, ...,\n",
       "        -2.74808764e-01,  1.91450700e-01,  7.45346248e-02],\n",
       "       ...,\n",
       "       [ 2.62862414e-01, -1.00531198e-01, -8.57456252e-02, ...,\n",
       "         1.14561684e-01, -1.68051571e-01, -5.93152404e-01],\n",
       "       [ 2.62298193e-02,  9.84886894e-04,  3.42826962e-01, ...,\n",
       "        -6.78979158e-01, -7.83786714e-01,  3.77601713e-01],\n",
       "       [-1.03599571e-01, -6.48452818e-01, -3.27170730e-01, ...,\n",
       "        -4.13872272e-01,  5.38269430e-03, -2.36459270e-01]], dtype=float32))"
      ]
     },
     "execution_count": 11,
     "metadata": {},
     "output_type": "execute_result"
    }
   ],
   "source": [
    "states_val[2]"
   ]
  },
  {
   "cell_type": "code",
   "execution_count": 12,
   "metadata": {},
   "outputs": [
    {
     "data": {
      "text/plain": [
       "array([ 1.12709112e-03, -6.26621783e-01,  6.11348404e-03,  3.21006179e-02,\n",
       "        2.04099659e-02,  2.91427528e-03, -6.48961484e-01, -4.91962419e-06,\n",
       "        2.99773389e-03,  8.89999390e-01, -2.63846293e-03, -2.79121459e-01,\n",
       "        6.18381761e-02,  1.14702554e-02,  3.86608532e-04,  8.38070452e-01,\n",
       "        8.94896090e-01,  1.66724235e-01,  7.08523095e-01,  7.65190244e-01,\n",
       "        3.06091330e-04, -2.90650964e-01,  5.85308969e-02, -4.64785565e-03,\n",
       "       -6.84897423e-01, -5.07276803e-02,  6.29149601e-02, -3.14832665e-02,\n",
       "       -3.01975786e-04, -4.39650565e-03,  4.75072831e-01,  1.12810181e-02,\n",
       "       -1.62384491e-02,  3.01979661e-01,  7.10277185e-02, -1.33077893e-02,\n",
       "       -8.63725087e-04, -2.18957543e-01,  7.07012713e-01,  1.36237303e-02,\n",
       "        2.85759587e-02, -1.01447059e-03, -2.35030234e-01, -1.48291024e-03,\n",
       "       -3.02080065e-01, -2.54049953e-02, -2.60028243e-03, -8.95632207e-02,\n",
       "       -2.97868103e-02, -2.84402873e-02, -7.64166472e-08,  7.54637599e-01,\n",
       "        6.94997832e-02,  2.75967091e-01,  1.55522386e-02, -3.43679786e-02,\n",
       "        7.34710515e-01,  2.08839923e-02,  4.16909570e-05, -4.12393827e-03,\n",
       "       -9.55526978e-02,  4.03222680e-01, -1.71781033e-01,  2.58893725e-02,\n",
       "        5.54792106e-01, -4.38304292e-03,  1.26908839e-01,  2.91794427e-02,\n",
       "        4.41202581e-01, -3.04445741e-04, -1.87009275e-01,  5.33829592e-02,\n",
       "        5.07487683e-04,  6.17044680e-02,  5.25137689e-03,  2.43999705e-01,\n",
       "        4.26200718e-01, -3.26263487e-01, -2.92222887e-01, -1.47484504e-02,\n",
       "        2.96355605e-01,  1.01744488e-03,  1.88741321e-03, -7.96201453e-03,\n",
       "        9.85444337e-02, -9.39539671e-01,  1.88245292e-06, -5.40370643e-01,\n",
       "       -4.09182208e-03,  5.07127643e-01, -7.00068831e-01, -4.78471786e-01,\n",
       "       -9.27070379e-02,  4.88874167e-01, -1.64946832e-03, -4.41580564e-01,\n",
       "        3.33930403e-02, -8.73302400e-01, -6.20569976e-04,  6.80695951e-01,\n",
       "       -4.02128160e-01,  3.11769749e-04,  8.29051137e-01,  1.94836920e-03,\n",
       "        1.57145574e-03,  2.87566218e-04, -6.92115957e-03, -9.97078538e-01,\n",
       "       -2.87809093e-02,  8.60746086e-01, -4.06162560e-01,  4.56147688e-03,\n",
       "       -5.64482510e-01, -8.10655504e-02,  8.23345408e-02,  1.15353579e-03,\n",
       "        1.45678177e-01,  1.15207005e-02, -1.23221558e-02, -4.61341534e-03,\n",
       "        4.90428686e-01,  2.51400960e-03,  5.64405753e-04, -1.20347962e-02,\n",
       "       -3.12002953e-02,  1.48764858e-02, -6.14504516e-01, -5.19650638e-01],\n",
       "      dtype=float32)"
      ]
     },
     "execution_count": 12,
     "metadata": {},
     "output_type": "execute_result"
    }
   ],
   "source": [
    "outputs_val[0][59]"
   ]
  },
  {
   "cell_type": "code",
   "execution_count": 13,
   "metadata": {},
   "outputs": [
    {
     "data": {
      "text/plain": [
       "array([ 1.12709112e-03, -6.26621783e-01,  6.11348404e-03,  3.21006179e-02,\n",
       "        2.04099659e-02,  2.91427528e-03, -6.48961484e-01, -4.91962419e-06,\n",
       "        2.99773389e-03,  8.89999390e-01, -2.63846293e-03, -2.79121459e-01,\n",
       "        6.18381761e-02,  1.14702554e-02,  3.86608532e-04,  8.38070452e-01,\n",
       "        8.94896090e-01,  1.66724235e-01,  7.08523095e-01,  7.65190244e-01,\n",
       "        3.06091330e-04, -2.90650964e-01,  5.85308969e-02, -4.64785565e-03,\n",
       "       -6.84897423e-01, -5.07276803e-02,  6.29149601e-02, -3.14832665e-02,\n",
       "       -3.01975786e-04, -4.39650565e-03,  4.75072831e-01,  1.12810181e-02,\n",
       "       -1.62384491e-02,  3.01979661e-01,  7.10277185e-02, -1.33077893e-02,\n",
       "       -8.63725087e-04, -2.18957543e-01,  7.07012713e-01,  1.36237303e-02,\n",
       "        2.85759587e-02, -1.01447059e-03, -2.35030234e-01, -1.48291024e-03,\n",
       "       -3.02080065e-01, -2.54049953e-02, -2.60028243e-03, -8.95632207e-02,\n",
       "       -2.97868103e-02, -2.84402873e-02, -7.64166472e-08,  7.54637599e-01,\n",
       "        6.94997832e-02,  2.75967091e-01,  1.55522386e-02, -3.43679786e-02,\n",
       "        7.34710515e-01,  2.08839923e-02,  4.16909570e-05, -4.12393827e-03,\n",
       "       -9.55526978e-02,  4.03222680e-01, -1.71781033e-01,  2.58893725e-02,\n",
       "        5.54792106e-01, -4.38304292e-03,  1.26908839e-01,  2.91794427e-02,\n",
       "        4.41202581e-01, -3.04445741e-04, -1.87009275e-01,  5.33829592e-02,\n",
       "        5.07487683e-04,  6.17044680e-02,  5.25137689e-03,  2.43999705e-01,\n",
       "        4.26200718e-01, -3.26263487e-01, -2.92222887e-01, -1.47484504e-02,\n",
       "        2.96355605e-01,  1.01744488e-03,  1.88741321e-03, -7.96201453e-03,\n",
       "        9.85444337e-02, -9.39539671e-01,  1.88245292e-06, -5.40370643e-01,\n",
       "       -4.09182208e-03,  5.07127643e-01, -7.00068831e-01, -4.78471786e-01,\n",
       "       -9.27070379e-02,  4.88874167e-01, -1.64946832e-03, -4.41580564e-01,\n",
       "        3.33930403e-02, -8.73302400e-01, -6.20569976e-04,  6.80695951e-01,\n",
       "       -4.02128160e-01,  3.11769749e-04,  8.29051137e-01,  1.94836920e-03,\n",
       "        1.57145574e-03,  2.87566218e-04, -6.92115957e-03, -9.97078538e-01,\n",
       "       -2.87809093e-02,  8.60746086e-01, -4.06162560e-01,  4.56147688e-03,\n",
       "       -5.64482510e-01, -8.10655504e-02,  8.23345408e-02,  1.15353579e-03,\n",
       "        1.45678177e-01,  1.15207005e-02, -1.23221558e-02, -4.61341534e-03,\n",
       "        4.90428686e-01,  2.51400960e-03,  5.64405753e-04, -1.20347962e-02,\n",
       "       -3.12002953e-02,  1.48764858e-02, -6.14504516e-01, -5.19650638e-01],\n",
       "      dtype=float32)"
      ]
     },
     "execution_count": 13,
     "metadata": {},
     "output_type": "execute_result"
    }
   ],
   "source": [
    "states_val[2][1][0]"
   ]
  },
  {
   "cell_type": "code",
   "execution_count": null,
   "metadata": {
    "collapsed": true
   },
   "outputs": [],
   "source": []
  }
 ],
 "metadata": {
  "kernelspec": {
   "display_name": "Python 3",
   "language": "python",
   "name": "python3"
  },
  "language_info": {
   "codemirror_mode": {
    "name": "ipython",
    "version": 3
   },
   "file_extension": ".py",
   "mimetype": "text/x-python",
   "name": "python",
   "nbconvert_exporter": "python",
   "pygments_lexer": "ipython3",
   "version": "3.6.2"
  }
 },
 "nbformat": 4,
 "nbformat_minor": 2
}
