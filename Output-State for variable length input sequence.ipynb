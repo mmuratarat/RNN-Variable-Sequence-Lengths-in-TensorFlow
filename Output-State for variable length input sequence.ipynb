{
 "cells": [
  {
   "cell_type": "code",
   "execution_count": 1,
   "metadata": {},
   "outputs": [
    {
     "name": "stderr",
     "output_type": "stream",
     "text": [
      "/Users/mustafamuratarat/anaconda3/lib/python3.6/site-packages/h5py/__init__.py:34: FutureWarning: Conversion of the second argument of issubdtype from `float` to `np.floating` is deprecated. In future, it will be treated as `np.float64 == np.dtype(float).type`.\n",
      "  from ._conv import register_converters as _register_converters\n"
     ]
    }
   ],
   "source": [
    "import tensorflow as tf\n",
    "import numpy as np\n",
    "import pandas as pd\n",
    "\n",
    "import matplotlib\n",
    "import matplotlib.pyplot as plt\n",
    "import time"
   ]
  },
  {
   "cell_type": "code",
   "execution_count": 2,
   "metadata": {
    "collapsed": true
   },
   "outputs": [],
   "source": [
    "X_train=pd.read_csv('/Users/mustafamuratarat/Desktop/train/X_train.txt', header=None).as_matrix()\n",
    "y_train = pd.read_csv('/Users/mustafamuratarat/Desktop/train/y_train.txt', header=None).as_matrix().ravel()\n",
    "X_test = pd.read_csv('/Users/mustafamuratarat/Desktop/test/X_test.txt', header=None).as_matrix()\n",
    "y_test = pd.read_csv('/Users/mustafamuratarat/Desktop/test/y_test.txt', header=None).as_matrix().ravel()"
   ]
  },
  {
   "cell_type": "code",
   "execution_count": 3,
   "metadata": {
    "collapsed": true
   },
   "outputs": [],
   "source": [
    "def convertDummy(y, labelNum):\n",
    "    labelNum = tf.constant(labelNum)\n",
    "    dummy = tf.one_hot(y, labelNum, axis=1)\n",
    "    sess = tf.Session()\n",
    "    dummy = sess.run(dummy)\n",
    "    sess.close()\n",
    "    return dummy"
   ]
  },
  {
   "cell_type": "code",
   "execution_count": 4,
   "metadata": {
    "collapsed": true
   },
   "outputs": [],
   "source": [
    "def length(sequence):\n",
    "  used = tf.sign(tf.reduce_max(tf.abs(sequence), 2))\n",
    "  length = tf.reduce_sum(used, 1)\n",
    "  length = tf.cast(length, tf.int32)\n",
    "  sess = tf.Session()\n",
    "  length = sess.run(length)\n",
    "  sess.close()\n",
    "  return length"
   ]
  },
  {
   "cell_type": "code",
   "execution_count": 5,
   "metadata": {},
   "outputs": [],
   "source": [
    "max_timestep = 60\n",
    "num_classes = 6\n",
    "split_size = max_timestep"
   ]
  },
  {
   "cell_type": "code",
   "execution_count": 6,
   "metadata": {
    "collapsed": true
   },
   "outputs": [],
   "source": [
    " def split_time(m, split_size):\n",
    "        r = m.shape[0]\n",
    "        extend_row_size = np.math.ceil(r / split_size) * split_size - r\n",
    "        m_p = np.expand_dims(np.pad(m, [(0, extend_row_size), (0, 0)], mode='constant'), axis=0)\n",
    "        result = m_p.reshape((np.math.ceil(r / split_size), split_size, m.shape[1]))\n",
    "        return result"
   ]
  },
  {
   "cell_type": "code",
   "execution_count": 7,
   "metadata": {},
   "outputs": [],
   "source": [
    "Xtrain = split_time(X_train, split_size)\n",
    "ytrain = split_time(convertDummy(y_train-1, num_classes), split_size)\n",
    "Xtest = split_time(X_test, split_size)\n",
    "ytest = split_time(convertDummy(y_test-1, num_classes), split_size)"
   ]
  },
  {
   "cell_type": "code",
   "execution_count": 8,
   "metadata": {},
   "outputs": [
    {
     "name": "stdout",
     "output_type": "stream",
     "text": [
      "(123, 60, 561)\n",
      "(123, 60, 6)\n",
      "(50, 60, 561)\n",
      "(50, 60, 6)\n"
     ]
    }
   ],
   "source": [
    "print(Xtrain.shape)\n",
    "print(ytrain.shape)\n",
    "print(Xtest.shape)\n",
    "print(ytest.shape)"
   ]
  },
  {
   "cell_type": "code",
   "execution_count": 19,
   "metadata": {},
   "outputs": [
    {
     "data": {
      "text/plain": [
       "array([60, 60, 60, 60, 60, 60, 60, 60, 60, 60, 60, 60, 60, 60, 60, 60, 60,\n",
       "       60, 60, 60, 60, 60, 60, 60, 60, 60, 60, 60, 60, 60, 60, 60, 60, 60,\n",
       "       60, 60, 60, 60, 60, 60, 60, 60, 60, 60, 60, 60, 60, 60, 60, 60, 60,\n",
       "       60, 60, 60, 60, 60, 60, 60, 60, 60, 60, 60, 60, 60, 60, 60, 60, 60,\n",
       "       60, 60, 60, 60, 60, 60, 60, 60, 60, 60, 60, 60, 60, 60, 60, 60, 60,\n",
       "       60, 60, 60, 60, 60, 60, 60, 60, 60, 60, 60, 60, 60, 60, 60, 60, 60,\n",
       "       60, 60, 60, 60, 60, 60, 60, 60, 60, 60, 60, 60, 60, 60, 60, 60, 60,\n",
       "       60, 60, 60, 32], dtype=int32)"
      ]
     },
     "execution_count": 19,
     "metadata": {},
     "output_type": "execute_result"
    }
   ],
   "source": [
    "length(Xtrain) #the last instance has only 32 time steps. We left-pad them with zeroes."
   ]
  },
  {
   "cell_type": "code",
   "execution_count": 9,
   "metadata": {},
   "outputs": [],
   "source": [
    "seq_length_batch = length(Xtrain)\n",
    "\n",
    "n_neurons = 128\n",
    "num_inputs = 561\n",
    "num_steps=60\n",
    "X = tf.placeholder(tf.float32, [None, num_steps, num_inputs])\n",
    "seq_length = tf.placeholder(tf.int32, [None])\n",
    "\n",
    "initializer = tf.random_uniform_initializer(-1, 1)\n",
    "cell = tf.contrib.rnn.LSTMCell(num_units=n_neurons, state_is_tuple=True, forget_bias=1.0, initializer=initializer)\n",
    "outputs, states= tf.nn.dynamic_rnn(cell, X, sequence_length=seq_length, dtype=tf.float32)\n",
    "\n",
    "\n",
    "init = tf.global_variables_initializer()\n",
    "with tf.Session() as sess:\n",
    "    init.run()\n",
    "    outputs_val, states_val = sess.run([outputs, states], feed_dict={X: Xtrain, seq_length:seq_length_batch})"
   ]
  },
  {
   "cell_type": "code",
   "execution_count": 10,
   "metadata": {},
   "outputs": [
    {
     "name": "stdout",
     "output_type": "stream",
     "text": [
      "(123, 60, 128)\n"
     ]
    }
   ],
   "source": [
    "print(outputs_val.shape)"
   ]
  },
  {
   "cell_type": "code",
   "execution_count": 11,
   "metadata": {},
   "outputs": [
    {
     "name": "stdout",
     "output_type": "stream",
     "text": [
      "[[-2.2261581e+01 -5.9861191e+01  6.1622041e-01 ... -5.0424500e+01\n",
      "  -5.2498875e+01  1.8757626e-05]\n",
      " [-6.2237778e+00 -5.8858715e+01  3.1848245e+00 ... -1.5879152e+01\n",
      "  -8.4553318e+00  2.1313832e-03]\n",
      " [-2.5817682e+01 -5.8589535e+01  4.0715318e+00 ... -6.5649724e+00\n",
      "  -3.2205780e+01 -8.3018822e-06]\n",
      " ...\n",
      " [-1.0220116e+00 -5.8531055e+01  1.6158296e-03 ... -2.3929796e+01\n",
      "  -4.7286873e+01  1.6072131e-04]\n",
      " [-4.1211290e+00 -5.9858986e+01  8.3531780e+00 ... -5.1728897e+00\n",
      "  -1.1686237e+00  2.3650814e-06]\n",
      " [-2.0673704e+01 -3.1958836e+01  1.1888981e+01 ... -2.1217928e+00\n",
      "  -5.2904539e+00  8.0984551e-03]]\n",
      "[[-1.0000000e+00 -9.9993694e-01  1.9291642e-06 ... -7.7934231e-04\n",
      "  -9.9980611e-01  1.8592676e-05]\n",
      " [-9.9998212e-01 -9.9244648e-01  3.8856086e-01 ... -1.4057340e-01\n",
      "  -9.7687006e-01  2.0994036e-03]\n",
      " [-1.0000000e+00 -2.6862469e-01  1.8426839e-03 ... -9.2686445e-04\n",
      "  -9.9994504e-01 -8.3007662e-06]\n",
      " ...\n",
      " [-7.7068466e-01 -9.9701047e-01  4.4745425e-09 ... -4.4300382e-06\n",
      "  -9.9999022e-01  1.3935380e-04]\n",
      " [-9.2737889e-01 -5.5484807e-01  2.8526294e-01 ... -5.5901355e-01\n",
      "  -7.3577112e-01  2.3646978e-06]\n",
      " [-9.9999607e-01 -9.9912173e-01  9.4795895e-01 ... -9.3999749e-01\n",
      "  -4.4071130e-02  8.0977418e-03]]\n"
     ]
    }
   ],
   "source": [
    "#state: if state_is_tuple is False, this must be a state Tensor, 2-D, batch x state_size. \n",
    "#If state_is_tuple is True, this must be a tuple of state Tensors, both 2-D, with column sizes c_state and m_state.\n",
    "#c_state and m_state are \"Memory State\" and \"Cell State\". (m_state has the same meaning as h_state)\n",
    "\n",
    "#Those tensors represent combined internal state of the cell, and should be passed together. \n",
    "#Old way to do it was to simply concatenate them, and new way is to use tuples.\n",
    "\n",
    "#c = (sigmoid(f + self._forget_bias) * c_prev + sigmoid(i) * self._activation(j))\n",
    "\n",
    "#and\n",
    "\n",
    "#m = sigmoid(o) * self._activation(c)\n",
    "\n",
    "#and \n",
    "\n",
    "#new_state = (LSTMStateTuple(c, m) \n",
    "\n",
    "#If you compare the code to compute c and m with the LSTM equations, you can see it corresponds to the cell state \n",
    "#(typically denoted with c) and hidden state (typically denoted with h), respectively.\n",
    "\n",
    "#new_state = (LSTMStateTuple(c, m) indicates that the first element of the returned state tuple is c \n",
    "#(cell state a.k.a. c_state), and the second element of the returned state tuple is m (hidden state a.k.a. m_state).\n",
    "type(states_val)\n",
    "\n",
    "print(states_val[0]) #new cell state\n",
    "print(states_val[1]) #new hidden state\n",
    "\n",
    "#Moreover the new hidden state tuple contains the final state of each cell (look below)"
   ]
  },
  {
   "cell_type": "code",
   "execution_count": 12,
   "metadata": {},
   "outputs": [
    {
     "name": "stdout",
     "output_type": "stream",
     "text": [
      "[0. 0. 0. 0. 0. 0. 0. 0. 0. 0. 0. 0. 0. 0. 0. 0. 0. 0. 0. 0. 0. 0. 0. 0.\n",
      " 0. 0. 0. 0. 0. 0. 0. 0. 0. 0. 0. 0. 0. 0. 0. 0. 0. 0. 0. 0. 0. 0. 0. 0.\n",
      " 0. 0. 0. 0. 0. 0. 0. 0. 0. 0. 0. 0. 0. 0. 0. 0. 0. 0. 0. 0. 0. 0. 0. 0.\n",
      " 0. 0. 0. 0. 0. 0. 0. 0. 0. 0. 0. 0. 0. 0. 0. 0. 0. 0. 0. 0. 0. 0. 0. 0.\n",
      " 0. 0. 0. 0. 0. 0. 0. 0. 0. 0. 0. 0. 0. 0. 0. 0. 0. 0. 0. 0. 0. 0. 0. 0.\n",
      " 0. 0. 0. 0. 0. 0. 0. 0.]\n"
     ]
    }
   ],
   "source": [
    "print(outputs_val[122][32])"
   ]
  },
  {
   "cell_type": "raw",
   "metadata": {},
   "source": [
    "The hidden state and output are same in LSTMs as well just like vanilla RNNs. It is just that there is an additional cell state. "
   ]
  },
  {
   "cell_type": "code",
   "execution_count": 13,
   "metadata": {},
   "outputs": [
    {
     "data": {
      "text/plain": [
       "array([-1.0000000e+00, -9.9993694e-01,  1.9291642e-06,  7.9703939e-05,\n",
       "        1.7265876e-01,  9.1469674e-06, -4.9654335e-02, -7.6785994e-01,\n",
       "        9.9589288e-01,  7.5930792e-01,  1.0776148e-12, -6.7408052e-03,\n",
       "       -1.3225140e-04, -2.0024334e-03, -1.8743804e-03,  7.2587636e-07,\n",
       "       -3.1778383e-01,  8.6504014e-17, -1.5321133e-06, -6.3138187e-01,\n",
       "       -1.0000000e+00, -3.4901130e-04,  2.9981215e-04, -8.6333588e-05,\n",
       "        2.5757418e-08, -1.5266814e-04, -2.4254780e-09, -9.9911296e-01,\n",
       "        9.9724603e-01, -9.9831003e-01,  6.1948068e-04, -2.7498906e-18,\n",
       "        7.6127100e-01, -1.3139486e-06, -4.4278200e-05,  3.2466814e-02,\n",
       "       -7.6171380e-01,  2.3750241e-07, -8.2052160e-05, -7.6219475e-01,\n",
       "       -3.3910876e-09, -9.8948812e-01,  3.2182992e-09, -2.3111209e-12,\n",
       "       -9.7669872e-06,  7.1865087e-04, -6.0348025e-06,  9.9574941e-01,\n",
       "        1.0476566e-01, -2.7343239e-10, -9.9996245e-01,  1.1412669e-09,\n",
       "       -9.9997950e-01, -9.5248595e-07,  1.6790977e-02,  9.3638444e-01,\n",
       "        7.6417553e-01,  1.0934457e-01, -2.6157629e-08, -9.0809770e-08,\n",
       "        1.5572649e-06, -2.6311660e-03,  7.5468785e-01, -4.1635143e-05,\n",
       "        6.7952797e-02,  8.5947593e-04, -5.1677185e-01,  1.7737514e-04,\n",
       "        9.9944311e-01, -3.6522763e-08, -1.7759657e-08,  9.6784467e-01,\n",
       "       -9.9919301e-01, -3.8257560e-01, -2.0849411e-06, -4.8580540e-10,\n",
       "       -7.5785148e-01, -5.2533464e-06, -3.6605261e-08, -9.2904367e-02,\n",
       "        9.6414210e-09, -4.9297832e-08, -3.4158357e-04, -5.8648286e-09,\n",
       "       -1.3590303e-09,  1.4024720e-07,  2.0357780e-01,  8.7663531e-02,\n",
       "       -1.8609183e-09,  4.4014795e-13, -2.9022842e-06, -8.3027224e-10,\n",
       "        4.5447427e-11, -1.7093186e-09, -1.6078054e-12, -7.0472366e-01,\n",
       "       -4.8274518e-07, -1.4461303e-01, -9.3821995e-04, -4.2843280e-05,\n",
       "        9.9999833e-01,  6.9972048e-06,  1.0463425e-01,  4.3887445e-01,\n",
       "        9.1251985e-07, -6.4307980e-02,  7.7668750e-01, -2.3630359e-03,\n",
       "       -3.4299895e-02,  1.3217374e-11, -2.7145225e-01, -7.0706731e-01,\n",
       "       -1.8041550e-04,  1.1580604e-05, -2.6492835e-06,  1.0000000e+00,\n",
       "        9.7884178e-01, -3.2903238e-06,  1.1404036e-05, -1.0000000e+00,\n",
       "       -1.4306937e-03,  5.6238118e-08,  9.9999607e-01,  8.2122409e-01,\n",
       "        7.9956664e-07, -7.7934231e-04, -9.9980611e-01,  1.8592676e-05],\n",
       "      dtype=float32)"
      ]
     },
     "execution_count": 13,
     "metadata": {},
     "output_type": "execute_result"
    }
   ],
   "source": [
    "#final state for the first instance\n",
    "states_val[1][0]"
   ]
  },
  {
   "cell_type": "code",
   "execution_count": 14,
   "metadata": {},
   "outputs": [
    {
     "data": {
      "text/plain": [
       "array([-1.0000000e+00, -9.9993694e-01,  1.9291642e-06,  7.9703939e-05,\n",
       "        1.7265876e-01,  9.1469674e-06, -4.9654335e-02, -7.6785994e-01,\n",
       "        9.9589288e-01,  7.5930792e-01,  1.0776148e-12, -6.7408052e-03,\n",
       "       -1.3225140e-04, -2.0024334e-03, -1.8743804e-03,  7.2587636e-07,\n",
       "       -3.1778383e-01,  8.6504014e-17, -1.5321133e-06, -6.3138187e-01,\n",
       "       -1.0000000e+00, -3.4901130e-04,  2.9981215e-04, -8.6333588e-05,\n",
       "        2.5757418e-08, -1.5266814e-04, -2.4254780e-09, -9.9911296e-01,\n",
       "        9.9724603e-01, -9.9831003e-01,  6.1948068e-04, -2.7498906e-18,\n",
       "        7.6127100e-01, -1.3139486e-06, -4.4278200e-05,  3.2466814e-02,\n",
       "       -7.6171380e-01,  2.3750241e-07, -8.2052160e-05, -7.6219475e-01,\n",
       "       -3.3910876e-09, -9.8948812e-01,  3.2182992e-09, -2.3111209e-12,\n",
       "       -9.7669872e-06,  7.1865087e-04, -6.0348025e-06,  9.9574941e-01,\n",
       "        1.0476566e-01, -2.7343239e-10, -9.9996245e-01,  1.1412669e-09,\n",
       "       -9.9997950e-01, -9.5248595e-07,  1.6790977e-02,  9.3638444e-01,\n",
       "        7.6417553e-01,  1.0934457e-01, -2.6157629e-08, -9.0809770e-08,\n",
       "        1.5572649e-06, -2.6311660e-03,  7.5468785e-01, -4.1635143e-05,\n",
       "        6.7952797e-02,  8.5947593e-04, -5.1677185e-01,  1.7737514e-04,\n",
       "        9.9944311e-01, -3.6522763e-08, -1.7759657e-08,  9.6784467e-01,\n",
       "       -9.9919301e-01, -3.8257560e-01, -2.0849411e-06, -4.8580540e-10,\n",
       "       -7.5785148e-01, -5.2533464e-06, -3.6605261e-08, -9.2904367e-02,\n",
       "        9.6414210e-09, -4.9297832e-08, -3.4158357e-04, -5.8648286e-09,\n",
       "       -1.3590303e-09,  1.4024720e-07,  2.0357780e-01,  8.7663531e-02,\n",
       "       -1.8609183e-09,  4.4014795e-13, -2.9022842e-06, -8.3027224e-10,\n",
       "        4.5447427e-11, -1.7093186e-09, -1.6078054e-12, -7.0472366e-01,\n",
       "       -4.8274518e-07, -1.4461303e-01, -9.3821995e-04, -4.2843280e-05,\n",
       "        9.9999833e-01,  6.9972048e-06,  1.0463425e-01,  4.3887445e-01,\n",
       "        9.1251985e-07, -6.4307980e-02,  7.7668750e-01, -2.3630359e-03,\n",
       "       -3.4299895e-02,  1.3217374e-11, -2.7145225e-01, -7.0706731e-01,\n",
       "       -1.8041550e-04,  1.1580604e-05, -2.6492835e-06,  1.0000000e+00,\n",
       "        9.7884178e-01, -3.2903238e-06,  1.1404036e-05, -1.0000000e+00,\n",
       "       -1.4306937e-03,  5.6238118e-08,  9.9999607e-01,  8.2122409e-01,\n",
       "        7.9956664e-07, -7.7934231e-04, -9.9980611e-01,  1.8592676e-05],\n",
       "      dtype=float32)"
      ]
     },
     "execution_count": 14,
     "metadata": {},
     "output_type": "execute_result"
    }
   ],
   "source": [
    "#output of the final time steps.THEY ARE THE SAME!\n",
    "outputs_val[0][59]"
   ]
  },
  {
   "cell_type": "raw",
   "metadata": {},
   "source": [
    "123th observation has only 32 time steps.Therefore the new hidden will give when t=32"
   ]
  },
  {
   "cell_type": "code",
   "execution_count": 23,
   "metadata": {},
   "outputs": [
    {
     "data": {
      "text/plain": [
       "array([-9.99996066e-01, -9.99121726e-01,  9.47958946e-01,  6.64272811e-04,\n",
       "        9.97423351e-01,  1.51272346e-08, -3.43467121e-08, -8.56500342e-02,\n",
       "        9.98469889e-01,  6.53836012e-01, -2.21689441e-03, -5.03772462e-04,\n",
       "       -9.80075262e-03,  2.64362954e-02,  3.90944630e-02,  1.59144108e-07,\n",
       "       -9.94364977e-01, -1.94143546e-09, -2.09245179e-03, -4.87343609e-01,\n",
       "       -6.23615444e-01, -3.61945093e-01,  3.11713084e-05, -7.02876225e-02,\n",
       "       -3.29719740e-03, -1.20037105e-02, -1.86250535e-08, -3.93456531e-07,\n",
       "        9.99754131e-01, -8.94902408e-01, -2.86640761e-06,  4.72174091e-18,\n",
       "        7.59040833e-01, -1.65996581e-01, -4.25734584e-07,  2.33514484e-07,\n",
       "       -4.16531488e-02,  1.05623947e-03, -1.98415667e-01, -7.69106686e-01,\n",
       "       -4.61503892e-04, -7.81199574e-01,  3.61764418e-09,  4.20641445e-04,\n",
       "       -3.33937351e-04, -7.57226317e-08, -1.34396472e-03,  1.00000000e+00,\n",
       "        9.99970675e-01,  6.21273011e-06, -2.41834685e-01,  2.01900264e-13,\n",
       "       -7.44437397e-01, -4.65913583e-03,  1.54928694e-05,  3.85389805e-01,\n",
       "        2.80781507e-01,  7.33984649e-01, -2.00608881e-08, -3.97565884e-07,\n",
       "       -7.20036449e-03,  2.73705134e-03,  6.67105496e-01, -4.83551668e-03,\n",
       "        8.04122806e-01,  1.16951385e-04,  4.82675806e-02,  9.27644223e-03,\n",
       "        4.40389425e-01, -7.58125154e-08,  3.14173258e-06,  9.76103723e-01,\n",
       "       -2.87279290e-05, -1.59449549e-03, -2.01887712e-01, -9.87371546e-04,\n",
       "       -7.62600839e-01, -3.68174426e-02, -6.34568323e-06,  4.04738858e-02,\n",
       "       -4.55108192e-03, -4.43315745e-04, -3.66438588e-04,  3.91677488e-04,\n",
       "       -3.41092236e-05, -5.20575745e-03,  1.26532853e-01,  7.59535968e-01,\n",
       "       -6.31871581e-01, -6.35360550e-07,  5.66714453e-10,  5.14495810e-07,\n",
       "        2.88331492e-08, -7.07865695e-07, -1.50629432e-07, -3.45298758e-05,\n",
       "       -3.96912306e-04,  8.81381258e-02, -2.57031861e-05, -6.78632706e-02,\n",
       "       -2.86306683e-02, -1.43724730e-08,  9.60342705e-01, -3.29771254e-04,\n",
       "       -3.92739619e-09, -2.49788258e-02,  7.61612713e-01,  1.63069435e-05,\n",
       "       -7.45974600e-01,  8.05206783e-03,  3.51573706e-01, -9.68142271e-01,\n",
       "        9.96775687e-01,  5.91424453e-07, -5.23922294e-02,  9.99766171e-01,\n",
       "        6.58145472e-02, -4.96582165e-02, -8.87602568e-04,  9.98364568e-01,\n",
       "       -2.99795852e-06,  4.90676121e-06,  9.76551652e-01,  7.68980384e-01,\n",
       "        5.48948301e-04, -9.39997494e-01, -4.40711305e-02,  8.09774175e-03],\n",
       "      dtype=float32)"
      ]
     },
     "execution_count": 23,
     "metadata": {},
     "output_type": "execute_result"
    }
   ],
   "source": [
    "outputs_val[122][31]"
   ]
  },
  {
   "cell_type": "code",
   "execution_count": 26,
   "metadata": {},
   "outputs": [
    {
     "data": {
      "text/plain": [
       "array([-9.99996066e-01, -9.99121726e-01,  9.47958946e-01,  6.64272811e-04,\n",
       "        9.97423351e-01,  1.51272346e-08, -3.43467121e-08, -8.56500342e-02,\n",
       "        9.98469889e-01,  6.53836012e-01, -2.21689441e-03, -5.03772462e-04,\n",
       "       -9.80075262e-03,  2.64362954e-02,  3.90944630e-02,  1.59144108e-07,\n",
       "       -9.94364977e-01, -1.94143546e-09, -2.09245179e-03, -4.87343609e-01,\n",
       "       -6.23615444e-01, -3.61945093e-01,  3.11713084e-05, -7.02876225e-02,\n",
       "       -3.29719740e-03, -1.20037105e-02, -1.86250535e-08, -3.93456531e-07,\n",
       "        9.99754131e-01, -8.94902408e-01, -2.86640761e-06,  4.72174091e-18,\n",
       "        7.59040833e-01, -1.65996581e-01, -4.25734584e-07,  2.33514484e-07,\n",
       "       -4.16531488e-02,  1.05623947e-03, -1.98415667e-01, -7.69106686e-01,\n",
       "       -4.61503892e-04, -7.81199574e-01,  3.61764418e-09,  4.20641445e-04,\n",
       "       -3.33937351e-04, -7.57226317e-08, -1.34396472e-03,  1.00000000e+00,\n",
       "        9.99970675e-01,  6.21273011e-06, -2.41834685e-01,  2.01900264e-13,\n",
       "       -7.44437397e-01, -4.65913583e-03,  1.54928694e-05,  3.85389805e-01,\n",
       "        2.80781507e-01,  7.33984649e-01, -2.00608881e-08, -3.97565884e-07,\n",
       "       -7.20036449e-03,  2.73705134e-03,  6.67105496e-01, -4.83551668e-03,\n",
       "        8.04122806e-01,  1.16951385e-04,  4.82675806e-02,  9.27644223e-03,\n",
       "        4.40389425e-01, -7.58125154e-08,  3.14173258e-06,  9.76103723e-01,\n",
       "       -2.87279290e-05, -1.59449549e-03, -2.01887712e-01, -9.87371546e-04,\n",
       "       -7.62600839e-01, -3.68174426e-02, -6.34568323e-06,  4.04738858e-02,\n",
       "       -4.55108192e-03, -4.43315745e-04, -3.66438588e-04,  3.91677488e-04,\n",
       "       -3.41092236e-05, -5.20575745e-03,  1.26532853e-01,  7.59535968e-01,\n",
       "       -6.31871581e-01, -6.35360550e-07,  5.66714453e-10,  5.14495810e-07,\n",
       "        2.88331492e-08, -7.07865695e-07, -1.50629432e-07, -3.45298758e-05,\n",
       "       -3.96912306e-04,  8.81381258e-02, -2.57031861e-05, -6.78632706e-02,\n",
       "       -2.86306683e-02, -1.43724730e-08,  9.60342705e-01, -3.29771254e-04,\n",
       "       -3.92739619e-09, -2.49788258e-02,  7.61612713e-01,  1.63069435e-05,\n",
       "       -7.45974600e-01,  8.05206783e-03,  3.51573706e-01, -9.68142271e-01,\n",
       "        9.96775687e-01,  5.91424453e-07, -5.23922294e-02,  9.99766171e-01,\n",
       "        6.58145472e-02, -4.96582165e-02, -8.87602568e-04,  9.98364568e-01,\n",
       "       -2.99795852e-06,  4.90676121e-06,  9.76551652e-01,  7.68980384e-01,\n",
       "        5.48948301e-04, -9.39997494e-01, -4.40711305e-02,  8.09774175e-03],\n",
       "      dtype=float32)"
      ]
     },
     "execution_count": 26,
     "metadata": {},
     "output_type": "execute_result"
    }
   ],
   "source": [
    "states_val[1][122]"
   ]
  }
 ],
 "metadata": {
  "kernelspec": {
   "display_name": "Python 3",
   "language": "python",
   "name": "python3"
  },
  "language_info": {
   "codemirror_mode": {
    "name": "ipython",
    "version": 3
   },
   "file_extension": ".py",
   "mimetype": "text/x-python",
   "name": "python",
   "nbconvert_exporter": "python",
   "pygments_lexer": "ipython3",
   "version": "3.6.2"
  }
 },
 "nbformat": 4,
 "nbformat_minor": 2
}
